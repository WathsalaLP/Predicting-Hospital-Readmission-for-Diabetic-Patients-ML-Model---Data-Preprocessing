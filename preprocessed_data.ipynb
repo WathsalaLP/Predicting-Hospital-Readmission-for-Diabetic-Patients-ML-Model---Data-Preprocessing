{
  "nbformat": 4,
  "nbformat_minor": 0,
  "metadata": {
    "colab": {
      "provenance": []
    },
    "kernelspec": {
      "name": "python3",
      "display_name": "Python 3"
    },
    "language_info": {
      "name": "python"
    }
  },
  "cells": [
    {
      "cell_type": "markdown",
      "source": [
        "***Data Preprocessing***"
      ],
      "metadata": {
        "id": "ncIl-E2RAq3i"
      }
    },
    {
      "cell_type": "markdown",
      "source": [
        "**Load the data**\n"
      ],
      "metadata": {
        "id": "6Df4fUES_5SB"
      }
    },
    {
      "cell_type": "code",
      "execution_count": 26,
      "metadata": {
        "colab": {
          "base_uri": "https://localhost:8080/"
        },
        "id": "L8dOYJ92sIme",
        "outputId": "bc382100-7bb4-4a2d-afd8-34371f3545b3"
      },
      "outputs": [
        {
          "output_type": "stream",
          "name": "stdout",
          "text": [
            "\n",
            "Head of data set :       Patient_ID   Age  Gender  HbA1c_Level Readmitted\n",
            "0  DMC 992/2019  58.0  Female          7.7         No\n",
            "1  DMC 392/2016  71.0  Female         11.1         No\n",
            "2  DMC 905/2019  48.0    Male          7.6         No\n",
            "3  DMC 587/2019  34.0  Female          8.0         No\n",
            "4  DMC 611/2011  62.0    Male         11.9         No\n"
          ]
        }
      ],
      "source": [
        "import pandas as pd\n",
        "import numpy as np\n",
        "\n",
        "# Load the data\n",
        "data = pd.read_csv('/content/hospital_data.csv')\n",
        "\n",
        "#print head\n",
        "print (\"\\nHead of data set : \",data.head())"
      ]
    },
    {
      "cell_type": "markdown",
      "source": [
        "**Cleaning:** *Remove any inconsistencies or errors in the data.*\n",
        "\n",
        "Remove incorrect/incomplete data"
      ],
      "metadata": {
        "id": "7qJ00izbAm68"
      }
    },
    {
      "cell_type": "code",
      "source": [
        "# Drop any rows with missing data\n",
        "data_cleaned = data.dropna()\n",
        "print(data_cleaned)\n"
      ],
      "metadata": {
        "colab": {
          "base_uri": "https://localhost:8080/"
        },
        "id": "DW7fS_GeBOe5",
        "outputId": "2750a0f4-c04c-4c57-a619-b6f878df9419"
      },
      "execution_count": 27,
      "outputs": [
        {
          "output_type": "stream",
          "name": "stdout",
          "text": [
            "       Patient_ID   Age  Gender  HbA1c_Level Readmitted\n",
            "0    DMC 992/2019  58.0  Female          7.7         No\n",
            "1    DMC 392/2016  71.0  Female         11.1         No\n",
            "2    DMC 905/2019  48.0    Male          7.6         No\n",
            "3    DMC 587/2019  34.0  Female          8.0         No\n",
            "4    DMC 611/2011  62.0    Male         11.9         No\n",
            "..            ...   ...     ...          ...        ...\n",
            "995       DMC 822  23.0    Male          5.2         No\n",
            "996       DMC 823  20.0    Male          9.6        Yes\n",
            "997       DMC 824  68.0  Female          8.6         No\n",
            "998       DMC 825  59.0    Male         11.9         No\n",
            "999       DMC 826  51.0  Female          6.2         No\n",
            "\n",
            "[997 rows x 5 columns]\n"
          ]
        }
      ]
    },
    {
      "cell_type": "markdown",
      "source": [
        "Binning Smoothing by mean/median/boundary"
      ],
      "metadata": {
        "id": "8Jt84yEBCL8h"
      }
    },
    {
      "cell_type": "code",
      "source": [
        "#Binning Smoothing by mean/median/boundary (on HbA1c_Level)\n",
        "\n",
        "bins = [0, 5.9, 7.0, 9.0, 12.0]\n",
        "labels = ['Low', 'Normal', 'Pre-diabetes', 'Diabetes']\n",
        "data_cleaned.loc[:, 'HbA1c_Level_Binned'] = pd.cut(data_cleaned['HbA1c_Level'], bins=bins, labels=labels)\n",
        "\n",
        "print(\"\\n Binned HbA1c_Level\")\n",
        "print(data_cleaned[['Patient_ID', 'HbA1c_Level', 'HbA1c_Level_Binned']])"
      ],
      "metadata": {
        "colab": {
          "base_uri": "https://localhost:8080/"
        },
        "id": "jskbFfNvCSEh",
        "outputId": "56b0d99a-eb9c-4c06-f40b-299472adf291"
      },
      "execution_count": 29,
      "outputs": [
        {
          "output_type": "stream",
          "name": "stdout",
          "text": [
            "\n",
            " Binned HbA1c_Level\n",
            "       Patient_ID  HbA1c_Level HbA1c_Level_Binned\n",
            "0    DMC 992/2019          7.7       Pre-diabetes\n",
            "1    DMC 392/2016         11.1           Diabetes\n",
            "2    DMC 905/2019          7.6       Pre-diabetes\n",
            "3    DMC 587/2019          8.0       Pre-diabetes\n",
            "4    DMC 611/2011         11.9           Diabetes\n",
            "..            ...          ...                ...\n",
            "995       DMC 822          5.2                Low\n",
            "996       DMC 823          9.6           Diabetes\n",
            "997       DMC 824          8.6       Pre-diabetes\n",
            "998       DMC 825         11.9           Diabetes\n",
            "999       DMC 826          6.2             Normal\n",
            "\n",
            "[997 rows x 3 columns]\n"
          ]
        }
      ]
    },
    {
      "cell_type": "markdown",
      "source": [
        "Regression"
      ],
      "metadata": {
        "id": "D5lGLVCmDOQu"
      }
    },
    {
      "cell_type": "code",
      "source": [
        "from sklearn.linear_model import LinearRegression\n",
        "\n",
        "#predict HbA1c_Level based on Age and Gender\n",
        "data_reg = data_cleaned[['Age', 'Gender', 'HbA1c_Level']].copy()\n",
        "data_reg['Gender_numeric'] = data_reg['Gender'].apply(lambda x: 1 if x == 'Female' else 0)\n",
        "\n",
        "X = data_reg[['Age', 'Gender_numeric']]\n",
        "y = data_reg['HbA1c_Level']\n",
        "\n",
        "#  regression model\n",
        "model = LinearRegression().fit(X, y)"
      ],
      "metadata": {
        "id": "kCoNwEH6DTpR"
      },
      "execution_count": 15,
      "outputs": []
    },
    {
      "cell_type": "markdown",
      "source": [
        "Clustering"
      ],
      "metadata": {
        "id": "mvvGNSHnDtTE"
      }
    },
    {
      "cell_type": "code",
      "source": [
        "from sklearn.cluster import KMeans\n",
        "\n",
        "#clusters on Age and HbA1c_Level\n",
        "kmeans = KMeans(n_clusters=2)\n",
        "data_cleaned.loc[:, 'Cluster'] = kmeans.fit_predict(data_cleaned[['Age', 'HbA1c_Level']])"
      ],
      "metadata": {
        "id": "qQgM3YvEDwzM"
      },
      "execution_count": 17,
      "outputs": []
    },
    {
      "cell_type": "markdown",
      "source": [
        "**Handle missing values** (median, mean, and mode)."
      ],
      "metadata": {
        "id": "8hiwbNY4EMgf"
      }
    },
    {
      "cell_type": "code",
      "source": [
        "data.loc[:, 'Age'] = data['Age'].fillna(data['Age'].median())\n",
        "data.loc[:, 'HbA1c_Level'] = data['HbA1c_Level'].fillna(data['HbA1c_Level'].median())\n",
        "\n",
        "print(data)"
      ],
      "metadata": {
        "colab": {
          "base_uri": "https://localhost:8080/"
        },
        "id": "_ynBy-E_EP7B",
        "outputId": "6d4f5479-0fbd-469c-acf0-03dda6ca1c7b"
      },
      "execution_count": 18,
      "outputs": [
        {
          "output_type": "stream",
          "name": "stdout",
          "text": [
            "       Patient_ID   Age  Gender  HbA1c_Level Readmitted\n",
            "0    DMC 992/2019  58.0  Female          7.7         No\n",
            "1    DMC 392/2016  71.0  Female         11.1         No\n",
            "2    DMC 905/2019  48.0    Male          7.6         No\n",
            "3    DMC 587/2019  34.0  Female          8.0         No\n",
            "4    DMC 611/2011  62.0    Male         11.9         No\n",
            "..            ...   ...     ...          ...        ...\n",
            "995       DMC 822  23.0    Male          5.2         No\n",
            "996       DMC 823  20.0    Male          9.6        Yes\n",
            "997       DMC 824  68.0  Female          8.6         No\n",
            "998       DMC 825  59.0    Male         11.9         No\n",
            "999       DMC 826  51.0  Female          6.2         No\n",
            "\n",
            "[1000 rows x 5 columns]\n"
          ]
        }
      ]
    },
    {
      "cell_type": "markdown",
      "source": [
        "**Reduction**"
      ],
      "metadata": {
        "id": "P_2wZuXFFWpB"
      }
    },
    {
      "cell_type": "markdown",
      "source": [
        "Dimensionality reduction"
      ],
      "metadata": {
        "id": "41AVaCRcFdwS"
      }
    },
    {
      "cell_type": "code",
      "source": [
        "from sklearn.decomposition import PCA\n",
        "\n",
        "#reducing the dimensions of 'Age', 'HbA1c_Level'\n",
        "pca = PCA(n_components=1)\n",
        "data_cleaned.loc[:, 'PCA_Age_HbA1c'] = pca.fit_transform(data_cleaned[['Age', 'HbA1c_Level']])"
      ],
      "metadata": {
        "id": "Rs_rpGgfFgg3"
      },
      "execution_count": 19,
      "outputs": []
    },
    {
      "cell_type": "markdown",
      "source": [
        "Attribute subset selection"
      ],
      "metadata": {
        "id": "9yGeeyHNF5xv"
      }
    },
    {
      "cell_type": "code",
      "source": [
        "#Attribute Subset Selection some columns\n",
        "\n",
        "data_reduced = data_cleaned[['Age', 'Gender', 'HbA1c_Level_Binned', 'Readmitted', 'Cluster']]"
      ],
      "metadata": {
        "id": "kHbq0L3qGA-8"
      },
      "execution_count": 20,
      "outputs": []
    },
    {
      "cell_type": "markdown",
      "source": [
        "Numerosity Reduction - Sampling or Modeling"
      ],
      "metadata": {
        "id": "ORtxcnOVGW_t"
      }
    },
    {
      "cell_type": "code",
      "source": [
        "data_Redu= data_reduced.sample(frac=0.5, random_state=42)\n",
        "\n",
        "print(\"Reduced Data \")\n",
        "print(data_Redu)"
      ],
      "metadata": {
        "colab": {
          "base_uri": "https://localhost:8080/"
        },
        "id": "9oHl8OrvGbo5",
        "outputId": "ad297dd0-9e45-4906-b496-b2c4acb32527"
      },
      "execution_count": 21,
      "outputs": [
        {
          "output_type": "stream",
          "name": "stdout",
          "text": [
            "Reduced Data \n",
            "      Age  Gender HbA1c_Level_Binned Readmitted  Cluster\n",
            "456  71.0  Female           Diabetes         No        1\n",
            "795  26.0    Male                Low         No        0\n",
            "211  47.0    Male       Pre-diabetes        Yes        0\n",
            "312  38.0    Male           Diabetes         No        0\n",
            "742  68.0    Male             Normal        Yes        1\n",
            "..    ...     ...                ...        ...      ...\n",
            "180  79.0  Female           Diabetes         No        1\n",
            "447  43.0    Male       Pre-diabetes         No        0\n",
            "419  46.0  Female                Low         No        0\n",
            "942  64.0    Male           Diabetes         No        1\n",
            "882  50.0    Male           Diabetes         No        1\n",
            "\n",
            "[498 rows x 5 columns]\n"
          ]
        }
      ]
    },
    {
      "cell_type": "markdown",
      "source": [
        "**Transformation:** Convert data into a suitable format for analysis."
      ],
      "metadata": {
        "id": "gWNM9MyPG0XP"
      }
    },
    {
      "cell_type": "markdown",
      "source": [
        "Normalization"
      ],
      "metadata": {
        "id": "r8Nvt3wlG-xn"
      }
    },
    {
      "cell_type": "code",
      "source": [
        "# Normalize 'Age' and 'HbA1c_Level'\n",
        "data_Redu['Age_Normalized'] = (data_Redu['Age'] - data_Redu['Age'].min()) / (data_Redu['Age'].max() - data_Redu['Age'].min())\n",
        "\n"
      ],
      "metadata": {
        "id": "K7G71Qt3G5lr"
      },
      "execution_count": 22,
      "outputs": []
    },
    {
      "cell_type": "markdown",
      "source": [
        "Feature selection and Feature Engineering"
      ],
      "metadata": {
        "id": "19TYghDcH4ej"
      }
    },
    {
      "cell_type": "code",
      "source": [
        "# Convert Gender to numeric (Female: 1, Male: 0)\n",
        "data_Redu['Gender_numeric'] = data_Redu['Gender'].apply(lambda x: 1 if x == 'Female' else 0)\n",
        "\n"
      ],
      "metadata": {
        "id": "10AinNkUH7FS"
      },
      "execution_count": 23,
      "outputs": []
    },
    {
      "cell_type": "markdown",
      "source": [
        "Discretization"
      ],
      "metadata": {
        "id": "nacdF8OrIVXx"
      }
    },
    {
      "cell_type": "code",
      "source": [
        "age_bins = [0, 30, 50, 100]\n",
        "age_labels = ['Young', 'Middle-aged', 'Senior']\n",
        "data_Redu['Age_Group'] = pd.cut(data_Redu['Age'], bins=age_bins, labels=age_labels)"
      ],
      "metadata": {
        "id": "ejEffLE8IX9v"
      },
      "execution_count": 24,
      "outputs": []
    },
    {
      "cell_type": "markdown",
      "source": [
        "Create New csv file include preprocessed data"
      ],
      "metadata": {
        "id": "x2SmhMKpJqEp"
      }
    },
    {
      "cell_type": "code",
      "source": [
        "# Save the preprocessed data to a new CSV file\n",
        "data_Redu.to_csv('preprocessed_hospital_data.csv', index=False)\n",
        "\n",
        "print(\"Final Transformed Data saved to 'preprocessed_hospital_data.csv'.\")\n",
        "print(data_Redu)"
      ],
      "metadata": {
        "colab": {
          "base_uri": "https://localhost:8080/"
        },
        "id": "ZDmLOTL2ItwP",
        "outputId": "3f55fe9d-c7fe-4e19-92ee-f8ba2e207c88"
      },
      "execution_count": 25,
      "outputs": [
        {
          "output_type": "stream",
          "name": "stdout",
          "text": [
            "Final Transformed Data saved to 'preprocessed_hospital_data.csv'.\n",
            "      Age  Gender HbA1c_Level_Binned Readmitted  Cluster  Age_Normalized  \\\n",
            "456  71.0  Female           Diabetes         No        1        0.864407   \n",
            "795  26.0    Male                Low         No        0        0.101695   \n",
            "211  47.0    Male       Pre-diabetes        Yes        0        0.457627   \n",
            "312  38.0    Male           Diabetes         No        0        0.305085   \n",
            "742  68.0    Male             Normal        Yes        1        0.813559   \n",
            "..    ...     ...                ...        ...      ...             ...   \n",
            "180  79.0  Female           Diabetes         No        1        1.000000   \n",
            "447  43.0    Male       Pre-diabetes         No        0        0.389831   \n",
            "419  46.0  Female                Low         No        0        0.440678   \n",
            "942  64.0    Male           Diabetes         No        1        0.745763   \n",
            "882  50.0    Male           Diabetes         No        1        0.508475   \n",
            "\n",
            "     Gender_numeric    Age_Group  \n",
            "456               1       Senior  \n",
            "795               0        Young  \n",
            "211               0  Middle-aged  \n",
            "312               0  Middle-aged  \n",
            "742               0       Senior  \n",
            "..              ...          ...  \n",
            "180               1       Senior  \n",
            "447               0  Middle-aged  \n",
            "419               1  Middle-aged  \n",
            "942               0       Senior  \n",
            "882               0  Middle-aged  \n",
            "\n",
            "[498 rows x 8 columns]\n"
          ]
        }
      ]
    }
  ]
}