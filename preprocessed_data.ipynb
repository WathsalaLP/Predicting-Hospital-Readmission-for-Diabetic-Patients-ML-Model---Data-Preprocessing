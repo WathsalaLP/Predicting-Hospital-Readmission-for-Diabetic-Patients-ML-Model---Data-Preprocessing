{
  "cells": [
    {
      "cell_type": "markdown",
      "metadata": {
        "id": "ncIl-E2RAq3i"
      },
      "source": [
        "***Data Preprocessing***"
      ]
    },
    {
      "cell_type": "markdown",
      "metadata": {
        "id": "6Df4fUES_5SB"
      },
      "source": [
        "**Load the data**\n"
      ]
    },
    {
      "cell_type": "code",
      "execution_count": 1,
      "metadata": {
        "colab": {
          "base_uri": "https://localhost:8080/"
        },
        "id": "L8dOYJ92sIme",
        "outputId": "b0b1e87d-929e-430f-9485-2fed02644480"
      },
      "outputs": [
        {
          "output_type": "stream",
          "name": "stdout",
          "text": [
            "\n",
            "Head of data set :       Patient_ID  Age  Gender  HbA1c_Level Readmitted\n",
            "0  DMC 992/2019   36  Female          6.5        Yes\n",
            "1  DMC 392/2016   58    Male          7.9        Yes\n",
            "2  DMC 905/2019   47    Male          7.2        Yes\n",
            "3  DMC 587/2019   44    Male          6.3         No\n",
            "4  DMC 611/2011   32    Male          8.5        Yes\n"
          ]
        }
      ],
      "source": [
        "import pandas as pd\n",
        "import numpy as np\n",
        "\n",
        "# Load the data\n",
        "data = pd.read_csv('/content/hospital_data.csv')\n",
        "\n",
        "#print head of the data set\n",
        "print (\"\\nHead of data set : \",data.head())"
      ]
    },
    {
      "cell_type": "markdown",
      "metadata": {
        "id": "7qJ00izbAm68"
      },
      "source": [
        "**Cleaning:** *Remove any inconsistencies or errors in the data.*\n",
        "\n",
        "Remove incorrect/incomplete data"
      ]
    },
    {
      "cell_type": "code",
      "execution_count": 2,
      "metadata": {
        "colab": {
          "base_uri": "https://localhost:8080/"
        },
        "id": "DW7fS_GeBOe5",
        "outputId": "0f5e99dd-f6e5-49f9-d820-cc35845e7500"
      },
      "outputs": [
        {
          "output_type": "stream",
          "name": "stdout",
          "text": [
            "      Patient_ID  Age  Gender  HbA1c_Level Readmitted\n",
            "0   DMC 992/2019   36  Female          6.5        Yes\n",
            "1   DMC 392/2016   58    Male          7.9        Yes\n",
            "2   DMC 905/2019   47    Male          7.2        Yes\n",
            "3   DMC 587/2019   44    Male          6.3         No\n",
            "4   DMC 611/2011   32    Male          8.5        Yes\n",
            "..           ...  ...     ...          ...        ...\n",
            "80   ENC/1810118   44    Male          8.9         No\n",
            "81   ENC/1925018   61  Female          8.4        Yes\n",
            "82   DMC/1303115   44    Male          7.1        Yes\n",
            "83   ENC/2015220   32    Male          6.7         No\n",
            "84   DMC/2050918   27  Female          7.4        Yes\n",
            "\n",
            "[85 rows x 5 columns]\n"
          ]
        }
      ],
      "source": [
        "# Drop any rows with missing data\n",
        "data_cleaned = data.dropna()\n",
        "print(data_cleaned)\n"
      ]
    },
    {
      "cell_type": "markdown",
      "metadata": {
        "id": "8Jt84yEBCL8h"
      },
      "source": [
        "Binning Smoothing by mean/median/boundary"
      ]
    },
    {
      "cell_type": "code",
      "execution_count": 3,
      "metadata": {
        "colab": {
          "base_uri": "https://localhost:8080/"
        },
        "id": "jskbFfNvCSEh",
        "outputId": "852a87a8-6e57-49a8-ead5-3e4970162cf5"
      },
      "outputs": [
        {
          "output_type": "stream",
          "name": "stdout",
          "text": [
            "      Patient_ID  Age  Gender  HbA1c_Level Readmitted  \\\n",
            "0   DMC 992/2019   36  Female          6.5        Yes   \n",
            "1   DMC 392/2016   58    Male          7.9        Yes   \n",
            "2   DMC 905/2019   47    Male          7.2        Yes   \n",
            "3   DMC 587/2019   44    Male          6.3         No   \n",
            "4   DMC 611/2011   32    Male          8.5        Yes   \n",
            "..           ...  ...     ...          ...        ...   \n",
            "80   ENC/1810118   44    Male          8.9         No   \n",
            "81   ENC/1925018   61  Female          8.4        Yes   \n",
            "82   DMC/1303115   44    Male          7.1        Yes   \n",
            "83   ENC/2015220   32    Male          6.7         No   \n",
            "84   DMC/2050918   27  Female          7.4        Yes   \n",
            "\n",
            "   HbA1c_Level_Binned_Numeric  \n",
            "0                           1  \n",
            "1                           2  \n",
            "2                           2  \n",
            "3                           1  \n",
            "4                           2  \n",
            "..                        ...  \n",
            "80                          2  \n",
            "81                          2  \n",
            "82                          2  \n",
            "83                          2  \n",
            "84                          2  \n",
            "\n",
            "[85 rows x 6 columns]\n"
          ]
        }
      ],
      "source": [
        "#Binning Smoothing by mean/median/boundary (on HbA1c_Level)\n",
        "\n",
        "data_cleaned = data_cleaned.copy()\n",
        "\n",
        "#categorized the HbA1c_level as \"Normal\",\"Pre-diabetes\", \"Diabets\"\n",
        "bins = [0, 5.6, 6.5, float('inf')]\n",
        "labels = ['Normal', 'Pre-diabetes', 'Diabetes']\n",
        "data_cleaned['HbA1c_Level_Binned'] = pd.cut(data_cleaned['HbA1c_Level'], bins=bins, labels=labels)\n",
        "\n",
        "# Convert categorical to numerical values\n",
        "label_mapping = { 'Normal': 0, 'Pre-diabetes': 1, 'Diabetes': 2}\n",
        "data_cleaned['HbA1c_Level_Binned_Numeric'] = data_cleaned['HbA1c_Level_Binned'].map(label_mapping)\n",
        "\n",
        "# Drop HbA1c_Level_Binned column\n",
        "data_cleaned.drop(columns=['HbA1c_Level_Binned'], inplace=True)\n",
        "\n",
        "print(data_cleaned)"
      ]
    },
    {
      "cell_type": "markdown",
      "metadata": {
        "id": "D5lGLVCmDOQu"
      },
      "source": [
        "Regression"
      ]
    },
    {
      "cell_type": "code",
      "execution_count": 4,
      "metadata": {
        "id": "kCoNwEH6DTpR"
      },
      "outputs": [],
      "source": [
        "from sklearn.linear_model import LinearRegression\n",
        "\n",
        "#predict HbA1c_Level based on Age and Gender\n",
        "data_reg = data_cleaned[['Age', 'Gender', 'HbA1c_Level']].copy()\n",
        "data_reg['Gender_numeric'] = data_reg['Gender'].apply(lambda x: 1 if x == 'Female' else 0)\n",
        "\n",
        "X = data_reg[['Age', 'Gender_numeric']]\n",
        "y = data_reg['HbA1c_Level']\n",
        "\n",
        "#  regression model\n",
        "model = LinearRegression().fit(X, y)"
      ]
    },
    {
      "cell_type": "markdown",
      "metadata": {
        "id": "mvvGNSHnDtTE"
      },
      "source": [
        "Clustering"
      ]
    },
    {
      "cell_type": "code",
      "execution_count": 5,
      "metadata": {
        "id": "qQgM3YvEDwzM"
      },
      "outputs": [],
      "source": [
        "from sklearn.cluster import KMeans\n",
        "\n",
        "#clusters on Age and HbA1c_Level\n",
        "kmeans = KMeans(n_clusters=2)\n",
        "data_cleaned['Cluster'] = kmeans.fit_predict(data_cleaned[['Age', 'HbA1c_Level']])"
      ]
    },
    {
      "cell_type": "markdown",
      "metadata": {
        "id": "8hiwbNY4EMgf"
      },
      "source": [
        "**Handle missing values** (median, mean, and mode)."
      ]
    },
    {
      "cell_type": "code",
      "execution_count": 6,
      "metadata": {
        "colab": {
          "base_uri": "https://localhost:8080/"
        },
        "id": "_ynBy-E_EP7B",
        "outputId": "73fa4719-57cf-4b57-85df-e99f1e95ac64"
      },
      "outputs": [
        {
          "output_type": "stream",
          "name": "stdout",
          "text": [
            "      Patient_ID  Age  Gender  HbA1c_Level Readmitted\n",
            "0   DMC 992/2019   36  Female          6.5        Yes\n",
            "1   DMC 392/2016   58    Male          7.9        Yes\n",
            "2   DMC 905/2019   47    Male          7.2        Yes\n",
            "3   DMC 587/2019   44    Male          6.3         No\n",
            "4   DMC 611/2011   32    Male          8.5        Yes\n",
            "..           ...  ...     ...          ...        ...\n",
            "80   ENC/1810118   44    Male          8.9         No\n",
            "81   ENC/1925018   61  Female          8.4        Yes\n",
            "82   DMC/1303115   44    Male          7.1        Yes\n",
            "83   ENC/2015220   32    Male          6.7         No\n",
            "84   DMC/2050918   27  Female          7.4        Yes\n",
            "\n",
            "[85 rows x 5 columns]\n"
          ]
        }
      ],
      "source": [
        "data['Age'] = data['Age'].fillna(data['Age'].median())\n",
        "data['HbA1c_Level'] = data['HbA1c_Level'].fillna(data['HbA1c_Level'].median())\n",
        "\n",
        "print(data)"
      ]
    },
    {
      "cell_type": "markdown",
      "metadata": {
        "id": "P_2wZuXFFWpB"
      },
      "source": [
        "**Reduction**"
      ]
    },
    {
      "cell_type": "markdown",
      "metadata": {
        "id": "41AVaCRcFdwS"
      },
      "source": [
        "Dimensionality reduction"
      ]
    },
    {
      "cell_type": "code",
      "execution_count": 7,
      "metadata": {
        "id": "Rs_rpGgfFgg3"
      },
      "outputs": [],
      "source": [
        "from sklearn.decomposition import PCA\n",
        "\n",
        "#reducing the dimensions of 'Age', 'HbA1c_Level'\n",
        "pca = PCA(n_components=1)\n",
        "data_cleaned['PCA_Age_HbA1c'] = pca.fit_transform(data_cleaned[['Age', 'HbA1c_Level']])"
      ]
    },
    {
      "cell_type": "markdown",
      "metadata": {
        "id": "9yGeeyHNF5xv"
      },
      "source": [
        "Attribute subset selection"
      ]
    },
    {
      "cell_type": "code",
      "execution_count": 8,
      "metadata": {
        "id": "kHbq0L3qGA-8"
      },
      "outputs": [],
      "source": [
        "#Attribute Subset Selection some columns\n",
        "\n",
        "data_reduced = data_cleaned[['Age', 'Gender', 'HbA1c_Level','HbA1c_Level_Binned_Numeric', 'Readmitted', 'Cluster']]"
      ]
    },
    {
      "cell_type": "markdown",
      "metadata": {
        "id": "ORtxcnOVGW_t"
      },
      "source": [
        "Numerosity Reduction - Sampling or Modeling"
      ]
    },
    {
      "cell_type": "code",
      "execution_count": 9,
      "metadata": {
        "colab": {
          "base_uri": "https://localhost:8080/"
        },
        "id": "9oHl8OrvGbo5",
        "outputId": "aa433782-b9e5-40b4-ffb6-a0168d420741"
      },
      "outputs": [
        {
          "output_type": "stream",
          "name": "stdout",
          "text": [
            "Reduced Data \n",
            "    Age  Gender  HbA1c_Level HbA1c_Level_Binned_Numeric Readmitted  Cluster\n",
            "78   46  Female         10.7                          2         No        0\n",
            "0    36  Female          6.5                          1        Yes        1\n",
            "68   52  Female         10.2                          2         No        0\n",
            "22   50    Male          8.3                          2         No        0\n",
            "12   63  Female          8.1                          2        Yes        0\n",
            "82   44    Male          7.1                          2        Yes        1\n",
            "10   28  Female          7.2                          2        Yes        1\n",
            "18   27  Female          5.8                          1        Yes        1\n",
            "4    32    Male          8.5                          2        Yes        1\n",
            "66   62  Female          7.9                          2        Yes        0\n",
            "40   32    Male          5.2                          0         No        1\n",
            "47   53  Female          9.2                          2        Yes        0\n",
            "35   27    Male         12.5                          2         No        1\n",
            "72   56    Male          7.9                          2         No        0\n",
            "55   46    Male          6.2                          1        Yes        0\n",
            "54   32    Male          7.1                          2         No        1\n",
            "33   57  Female          7.1                          2        Yes        0\n",
            "77   39  Female          0.3                          0        Yes        1\n",
            "42   53  Female          8.0                          2        Yes        0\n",
            "49   61  Female          8.4                          2        Yes        0\n",
            "11   64  Female          6.3                          1        Yes        0\n",
            "30   35    Male          6.4                          1         No        1\n",
            "39   39  Female          6.6                          2        Yes        1\n",
            "28   46    Male          6.1                          1        Yes        0\n",
            "9    33  Female          5.3                          0         No        1\n",
            "64   47  Female          6.2                          1         No        0\n",
            "5    38  Female          7.5                          2         No        1\n",
            "45   63  Female          7.6                          2        Yes        0\n",
            "31   54  Female          6.6                          2        Yes        0\n",
            "34   56  Female          7.2                          2         No        0\n",
            "44   42  Female          6.4                          1        Yes        1\n",
            "84   27  Female          7.4                          2        Yes        1\n",
            "16   59  Female          9.3                          2        Yes        0\n",
            "65   32    Male          7.1                          2         No        1\n",
            "7    53  Female          6.7                          2         No        0\n",
            "69   48    Male          6.8                          2        Yes        0\n",
            "56   18    Male          5.2                          0        Yes        1\n",
            "19   61  Female          7.0                          2        Yes        0\n",
            "70   50  Female         13.4                          2         No        0\n",
            "25   22  Female          5.5                          0        Yes        1\n",
            "53   27    Male          5.3                          0         No        1\n",
            "13   32    Male          8.3                          2         No        1\n"
          ]
        }
      ],
      "source": [
        "#Data reduction\n",
        "data_Redu= data_reduced.sample(frac=0.5, random_state=42)\n",
        "\n",
        "print(\"Reduced Data \")\n",
        "print(data_Redu)"
      ]
    },
    {
      "cell_type": "markdown",
      "metadata": {
        "id": "gWNM9MyPG0XP"
      },
      "source": [
        "**Transformation:** Convert data into a suitable format for analysis."
      ]
    },
    {
      "cell_type": "markdown",
      "source": [
        "Normalization"
      ],
      "metadata": {
        "id": "fQi113Mwmayl"
      }
    },
    {
      "cell_type": "code",
      "source": [
        "# Normalize 'Age' and 'HbA1c_Level'\n",
        "data_Redu['Age_Normalized'] = (data_Redu['Age'] - data_Redu['Age'].min()) / (data_Redu['Age'].max() - data_Redu['Age'].min())\n",
        "data_Redu['HbA1c_Level'] = (data_Redu['HbA1c_Level'] - data_Redu['HbA1c_Level'].min()) / (data_Redu['HbA1c_Level'].max() - data_Redu['HbA1c_Level'].min())"
      ],
      "metadata": {
        "id": "clWD-eNZmSxH"
      },
      "execution_count": 10,
      "outputs": []
    },
    {
      "cell_type": "markdown",
      "metadata": {
        "id": "19TYghDcH4ej"
      },
      "source": [
        "Feature selection and Feature Engineering"
      ]
    },
    {
      "cell_type": "code",
      "execution_count": 11,
      "metadata": {
        "colab": {
          "base_uri": "https://localhost:8080/"
        },
        "id": "10AinNkUH7FS",
        "outputId": "80ed09df-ae61-4621-ea47-cfd08be35e8c",
        "collapsed": true
      },
      "outputs": [
        {
          "output_type": "stream",
          "name": "stdout",
          "text": [
            "    Age  HbA1c_Level HbA1c_Level_Binned_Numeric  Cluster  Age_Normalized  \\\n",
            "78   46     0.793893                          2        0        0.608696   \n",
            "0    36     0.473282                          1        1        0.391304   \n",
            "68   52     0.755725                          2        0        0.739130   \n",
            "22   50     0.610687                          2        0        0.695652   \n",
            "12   63     0.595420                          2        0        0.978261   \n",
            "82   44     0.519084                          2        1        0.565217   \n",
            "10   28     0.526718                          2        1        0.217391   \n",
            "18   27     0.419847                          1        1        0.195652   \n",
            "4    32     0.625954                          2        1        0.304348   \n",
            "66   62     0.580153                          2        0        0.956522   \n",
            "40   32     0.374046                          0        1        0.304348   \n",
            "47   53     0.679389                          2        0        0.760870   \n",
            "35   27     0.931298                          2        1        0.195652   \n",
            "72   56     0.580153                          2        0        0.826087   \n",
            "55   46     0.450382                          1        0        0.608696   \n",
            "54   32     0.519084                          2        1        0.304348   \n",
            "33   57     0.519084                          2        0        0.847826   \n",
            "77   39     0.000000                          0        1        0.456522   \n",
            "42   53     0.587786                          2        0        0.760870   \n",
            "49   61     0.618321                          2        0        0.934783   \n",
            "11   64     0.458015                          1        0        1.000000   \n",
            "30   35     0.465649                          1        1        0.369565   \n",
            "39   39     0.480916                          2        1        0.456522   \n",
            "28   46     0.442748                          1        0        0.608696   \n",
            "9    33     0.381679                          0        1        0.326087   \n",
            "64   47     0.450382                          1        0        0.630435   \n",
            "5    38     0.549618                          2        1        0.434783   \n",
            "45   63     0.557252                          2        0        0.978261   \n",
            "31   54     0.480916                          2        0        0.782609   \n",
            "34   56     0.526718                          2        0        0.826087   \n",
            "44   42     0.465649                          1        1        0.521739   \n",
            "84   27     0.541985                          2        1        0.195652   \n",
            "16   59     0.687023                          2        0        0.891304   \n",
            "65   32     0.519084                          2        1        0.304348   \n",
            "7    53     0.488550                          2        0        0.760870   \n",
            "69   48     0.496183                          2        0        0.652174   \n",
            "56   18     0.374046                          0        1        0.000000   \n",
            "19   61     0.511450                          2        0        0.934783   \n",
            "70   50     1.000000                          2        0        0.695652   \n",
            "25   22     0.396947                          0        1        0.086957   \n",
            "53   27     0.381679                          0        1        0.195652   \n",
            "13   32     0.610687                          2        1        0.304348   \n",
            "\n",
            "    Gender_numeric  Readmitted_numeric  \n",
            "78               1                   0  \n",
            "0                1                   1  \n",
            "68               1                   0  \n",
            "22               0                   0  \n",
            "12               1                   1  \n",
            "82               0                   1  \n",
            "10               1                   1  \n",
            "18               1                   1  \n",
            "4                0                   1  \n",
            "66               1                   1  \n",
            "40               0                   0  \n",
            "47               1                   1  \n",
            "35               0                   0  \n",
            "72               0                   0  \n",
            "55               0                   1  \n",
            "54               0                   0  \n",
            "33               1                   1  \n",
            "77               1                   1  \n",
            "42               1                   1  \n",
            "49               1                   1  \n",
            "11               1                   1  \n",
            "30               0                   0  \n",
            "39               1                   1  \n",
            "28               0                   1  \n",
            "9                1                   0  \n",
            "64               1                   0  \n",
            "5                1                   0  \n",
            "45               1                   1  \n",
            "31               1                   1  \n",
            "34               1                   0  \n",
            "44               1                   1  \n",
            "84               1                   1  \n",
            "16               1                   1  \n",
            "65               0                   0  \n",
            "7                1                   0  \n",
            "69               0                   1  \n",
            "56               0                   1  \n",
            "19               1                   1  \n",
            "70               1                   0  \n",
            "25               1                   1  \n",
            "53               0                   0  \n",
            "13               0                   0  \n"
          ]
        }
      ],
      "source": [
        "# Convert Gender to numeric\n",
        "data_Redu['Gender_numeric'] = data_Redu['Gender'].apply(lambda x: 1 if x == 'Female' else 0)\n",
        "\n",
        "# Convert \"Readmitted\" column to numeric\n",
        "data_Redu['Readmitted_numeric'] = data_Redu['Readmitted'].apply(lambda x: 1 if x == 'Yes' else 0)\n",
        "\n",
        "data_Redu.drop(columns=['Gender', 'Readmitted'], inplace=True)\n",
        "\n",
        "print(data_Redu)"
      ]
    },
    {
      "cell_type": "markdown",
      "metadata": {
        "id": "nacdF8OrIVXx"
      },
      "source": [
        "Discretization"
      ]
    },
    {
      "cell_type": "code",
      "execution_count": 12,
      "metadata": {
        "colab": {
          "base_uri": "https://localhost:8080/"
        },
        "id": "ejEffLE8IX9v",
        "outputId": "045b1ddc-f22f-49e3-ddcc-30f5940566a8",
        "collapsed": true
      },
      "outputs": [
        {
          "output_type": "stream",
          "name": "stdout",
          "text": [
            "    Age  HbA1c_Level HbA1c_Level_Binned_Numeric  Cluster  Age_Normalized  \\\n",
            "78   46     0.793893                          2        0        0.608696   \n",
            "0    36     0.473282                          1        1        0.391304   \n",
            "68   52     0.755725                          2        0        0.739130   \n",
            "22   50     0.610687                          2        0        0.695652   \n",
            "12   63     0.595420                          2        0        0.978261   \n",
            "82   44     0.519084                          2        1        0.565217   \n",
            "10   28     0.526718                          2        1        0.217391   \n",
            "18   27     0.419847                          1        1        0.195652   \n",
            "4    32     0.625954                          2        1        0.304348   \n",
            "66   62     0.580153                          2        0        0.956522   \n",
            "40   32     0.374046                          0        1        0.304348   \n",
            "47   53     0.679389                          2        0        0.760870   \n",
            "35   27     0.931298                          2        1        0.195652   \n",
            "72   56     0.580153                          2        0        0.826087   \n",
            "55   46     0.450382                          1        0        0.608696   \n",
            "54   32     0.519084                          2        1        0.304348   \n",
            "33   57     0.519084                          2        0        0.847826   \n",
            "77   39     0.000000                          0        1        0.456522   \n",
            "42   53     0.587786                          2        0        0.760870   \n",
            "49   61     0.618321                          2        0        0.934783   \n",
            "11   64     0.458015                          1        0        1.000000   \n",
            "30   35     0.465649                          1        1        0.369565   \n",
            "39   39     0.480916                          2        1        0.456522   \n",
            "28   46     0.442748                          1        0        0.608696   \n",
            "9    33     0.381679                          0        1        0.326087   \n",
            "64   47     0.450382                          1        0        0.630435   \n",
            "5    38     0.549618                          2        1        0.434783   \n",
            "45   63     0.557252                          2        0        0.978261   \n",
            "31   54     0.480916                          2        0        0.782609   \n",
            "34   56     0.526718                          2        0        0.826087   \n",
            "44   42     0.465649                          1        1        0.521739   \n",
            "84   27     0.541985                          2        1        0.195652   \n",
            "16   59     0.687023                          2        0        0.891304   \n",
            "65   32     0.519084                          2        1        0.304348   \n",
            "7    53     0.488550                          2        0        0.760870   \n",
            "69   48     0.496183                          2        0        0.652174   \n",
            "56   18     0.374046                          0        1        0.000000   \n",
            "19   61     0.511450                          2        0        0.934783   \n",
            "70   50     1.000000                          2        0        0.695652   \n",
            "25   22     0.396947                          0        1        0.086957   \n",
            "53   27     0.381679                          0        1        0.195652   \n",
            "13   32     0.610687                          2        1        0.304348   \n",
            "\n",
            "    Gender_numeric  Readmitted_numeric Age_Group_Numeric  \n",
            "78               1                   0                 1  \n",
            "0                1                   1                 1  \n",
            "68               1                   0                 2  \n",
            "22               0                   0                 1  \n",
            "12               1                   1                 2  \n",
            "82               0                   1                 1  \n",
            "10               1                   1                 0  \n",
            "18               1                   1                 0  \n",
            "4                0                   1                 1  \n",
            "66               1                   1                 2  \n",
            "40               0                   0                 1  \n",
            "47               1                   1                 2  \n",
            "35               0                   0                 0  \n",
            "72               0                   0                 2  \n",
            "55               0                   1                 1  \n",
            "54               0                   0                 1  \n",
            "33               1                   1                 2  \n",
            "77               1                   1                 1  \n",
            "42               1                   1                 2  \n",
            "49               1                   1                 2  \n",
            "11               1                   1                 2  \n",
            "30               0                   0                 1  \n",
            "39               1                   1                 1  \n",
            "28               0                   1                 1  \n",
            "9                1                   0                 1  \n",
            "64               1                   0                 1  \n",
            "5                1                   0                 1  \n",
            "45               1                   1                 2  \n",
            "31               1                   1                 2  \n",
            "34               1                   0                 2  \n",
            "44               1                   1                 1  \n",
            "84               1                   1                 0  \n",
            "16               1                   1                 2  \n",
            "65               0                   0                 1  \n",
            "7                1                   0                 2  \n",
            "69               0                   1                 1  \n",
            "56               0                   1                 0  \n",
            "19               1                   1                 2  \n",
            "70               1                   0                 1  \n",
            "25               1                   1                 0  \n",
            "53               0                   0                 0  \n",
            "13               0                   0                 1  \n"
          ]
        }
      ],
      "source": [
        "age_bins = [0, 30, 50, 100]\n",
        "age_labels = ['Young', 'Middle-aged', 'Senior']\n",
        "data_Redu['Age_Group'] = pd.cut(data_Redu['Age'], bins=age_bins, labels=age_labels)\n",
        "\n",
        "# Age_Group to numeric values\n",
        "age_group_mapping = {'Young': 0, 'Middle-aged': 1, 'Senior': 2}\n",
        "data_Redu['Age_Group_Numeric'] = data_Redu['Age_Group'].map(age_group_mapping)\n",
        "\n",
        "data_Redu.drop(columns=['Age_Group'], inplace=True)\n",
        "\n",
        "print(data_Redu)"
      ]
    },
    {
      "cell_type": "markdown",
      "metadata": {
        "id": "x2SmhMKpJqEp"
      },
      "source": [
        "Create New csv file include preprocessed data"
      ]
    },
    {
      "cell_type": "code",
      "execution_count": 13,
      "metadata": {
        "colab": {
          "base_uri": "https://localhost:8080/"
        },
        "id": "ZDmLOTL2ItwP",
        "outputId": "d008a15f-9cb1-407d-c358-b3178764dae0"
      },
      "outputs": [
        {
          "output_type": "stream",
          "name": "stdout",
          "text": [
            "Final Transformed Data saved to 'preprocessed_hospital_data.csv'.\n",
            "    Age  HbA1c_Level HbA1c_Level_Binned_Numeric  Cluster  Age_Normalized  \\\n",
            "78   46     0.793893                          2        0        0.608696   \n",
            "0    36     0.473282                          1        1        0.391304   \n",
            "68   52     0.755725                          2        0        0.739130   \n",
            "22   50     0.610687                          2        0        0.695652   \n",
            "12   63     0.595420                          2        0        0.978261   \n",
            "\n",
            "    Gender_numeric  Readmitted_numeric Age_Group_Numeric  \n",
            "78               1                   0                 1  \n",
            "0                1                   1                 1  \n",
            "68               1                   0                 2  \n",
            "22               0                   0                 1  \n",
            "12               1                   1                 2  \n"
          ]
        }
      ],
      "source": [
        "# Save the preprocessed data to a new CSV file\n",
        "data_Redu.to_csv('preprocessed_hospital_data.csv', index=False)\n",
        "\n",
        "print(\"Final Transformed Data saved to 'preprocessed_hospital_data.csv'.\")\n",
        "print(data_Redu.head())"
      ]
    }
  ],
  "metadata": {
    "colab": {
      "provenance": []
    },
    "kernelspec": {
      "display_name": "Python 3",
      "name": "python3"
    },
    "language_info": {
      "name": "python"
    }
  },
  "nbformat": 4,
  "nbformat_minor": 0
}